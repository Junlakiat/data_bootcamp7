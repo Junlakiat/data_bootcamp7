{
  "nbformat": 4,
  "nbformat_minor": 0,
  "metadata": {
    "colab": {
      "provenance": []
    },
    "kernelspec": {
      "name": "python3",
      "display_name": "Python 3"
    },
    "language_info": {
      "name": "python"
    }
  },
  "cells": [
    {
      "cell_type": "code",
      "execution_count": null,
      "metadata": {
        "id": "lW8sotTj5P8E"
      },
      "outputs": [],
      "source": [
        "#HW01: Pizza Chatbot\n",
        "#HW02: Rock, Paper, Scissors\n",
        "#HW03: OOP (Create new ATM class with 5 methods)"
      ]
    },
    {
      "cell_type": "markdown",
      "source": [
        "#HW01 Pizza Chatbot"
      ],
      "metadata": {
        "id": "9tHdl1mne9IF"
      }
    },
    {
      "cell_type": "code",
      "source": [
        "#HW01: Pizza Chatbot\n",
        "def pizzabot():\n",
        "    pizza_list = [\"margherita\", \"pepperoni\", \"hawaiian\", \"seafood\", \"beacon\"]\n",
        "    size_list = [\"small\", \"medium\", \"large\"]\n",
        "    eat_where = [\"for here\", \"to go\"]\n",
        "\n",
        "    orders ={\n",
        "        \"type\" : \" \",\n",
        "        \"size\" : \" \",\n",
        "        \"eat\" : \" \",\n",
        "    }\n",
        "\n",
        "    print(\" \")\n",
        "    print(\"Hello, welcome to TIME TO PIZZA.\")\n",
        "\n",
        "    while True:\n",
        "        print(\" \")\n",
        "        print(pizza_list)\n",
        "        types = input(\"which type do you like to order?\")\n",
        "        if types in pizza_list:\n",
        "            orders[\"type\"] = types\n",
        "        else:\n",
        "            print(\" \")\n",
        "            print(\"Sorry this choice in not available.\")\n",
        "\n",
        "        while True:\n",
        "            print(\" \")\n",
        "            print(size_list)\n",
        "            sizes = input(\"Which size do you choice?\")\n",
        "            if sizes in size_list:\n",
        "                orders[\"size\"] = sizes\n",
        "            else:\n",
        "                print(\" \")\n",
        "                print(\"Sorry, We just have i can't make your size.\")\n",
        "\n",
        "            while True:\n",
        "                print(\" \")\n",
        "                print(eat_where)\n",
        "                eats = input(\"For here or Go to?\")\n",
        "                if eats in eat_where:\n",
        "                    orders[\"eat\"] = eats\n",
        "                else:\n",
        "                    print(\" \")\n",
        "                    print(\"Where do you EAT for here or Go to?\")\n",
        "                    continue\n",
        "\n",
        "                print(\" \")\n",
        "                print(\"Thank you for order, Enjoy your meal.\")\n",
        "                return orders\n",
        "\n",
        "pizzabot()"
      ],
      "metadata": {
        "colab": {
          "base_uri": "https://localhost:8080/"
        },
        "id": "9MreUg255UUK",
        "outputId": "a343a832-3aa2-4634-8e15-acdae3c3ada4"
      },
      "execution_count": null,
      "outputs": [
        {
          "output_type": "stream",
          "name": "stdout",
          "text": [
            " \n",
            "Hello, welcome to TIME TO PIZZA.\n",
            " \n",
            "['margherita', 'pepperoni', 'hawaiian', 'seafood', 'beacon']\n",
            "which type do you like to order?margherita\n",
            " \n",
            "['small', 'medium', 'large']\n",
            "Which size do you choice?large\n",
            " \n",
            "['for here', 'to go']\n",
            "For here or Go to?for here\n",
            " \n",
            "Thank you for order, Enjoy your meal.\n"
          ]
        },
        {
          "output_type": "execute_result",
          "data": {
            "text/plain": [
              "{'type': 'margherita', 'size': 'large', 'eat': 'for here'}"
            ]
          },
          "metadata": {},
          "execution_count": 1
        }
      ]
    },
    {
      "cell_type": "code",
      "source": [
        "def pizzabot():\n",
        "    pizza_list = [\"Margherita\", \"Pepperoni\", \"Hawaiian\", \"Seafood\", \"Bacon\"]\n",
        "    size_list = [\"Small\", \"Medium\", \"Large\"]\n",
        "    eat_where = [\"For here\", \"To go\"]\n",
        "\n",
        "    orders = {\n",
        "        \"type\": \"\",\n",
        "        \"size\": \"\",\n",
        "        \"eat\": \"\",\n",
        "    }\n",
        "\n",
        "    print(\" \")\n",
        "    print(\"Hello, welcome to TIME TO PIZZA.\")\n",
        "\n",
        "    while True:\n",
        "        print(\" \")\n",
        "        print(\"Available pizza types:\", pizza_list)\n",
        "        types = input(\"Which type do you like to order? (Type 'exit' to end): \").capitalize()\n",
        "\n",
        "        if types == 'Exit':\n",
        "            print(\"Thank you for visiting TIME TO PIZZA. Have a great day!\")\n",
        "            return None\n",
        "\n",
        "        if types in pizza_list:\n",
        "            orders[\"type\"] = types\n",
        "        else:\n",
        "            print(\" \")\n",
        "            print(\"Sorry, this choice is not available.\")\n",
        "\n",
        "        while True:\n",
        "            print(\" \")\n",
        "            print(\"Available sizes:\", size_list)\n",
        "            sizes = input(\"Which size do you choose? \").capitalize()\n",
        "\n",
        "            if sizes in size_list:\n",
        "                orders[\"size\"] = sizes\n",
        "            else:\n",
        "                print(\" \")\n",
        "                print(\"Sorry, we don't have that size available.\")\n",
        "\n",
        "            while True:\n",
        "                print(\" \")\n",
        "                print(\"Options:\", eat_where)\n",
        "                eats = input(\"For here or To go? \").capitalize()\n",
        "\n",
        "                if eats in eat_where:\n",
        "                    orders[\"eat\"] = eats\n",
        "                    print(\" \")\n",
        "                    print(\"Thank you for your order. Enjoy your meal!\")\n",
        "                    return orders\n",
        "                else:\n",
        "                    print(\" \")\n",
        "                    print(\"Please select 'For here' or 'To go'.\")\n",
        "                    continue\n",
        "\n",
        "pizzabot()"
      ],
      "metadata": {
        "colab": {
          "base_uri": "https://localhost:8080/"
        },
        "id": "8Rg15adFNQZx",
        "outputId": "90f5f715-86b9-4555-f3b5-1a20e74f808b"
      },
      "execution_count": null,
      "outputs": [
        {
          "output_type": "stream",
          "name": "stdout",
          "text": [
            " \n",
            "Hello, welcome to TIME TO PIZZA.\n",
            " \n",
            "Available pizza types: ['Margherita', 'Pepperoni', 'Hawaiian', 'Seafood', 'Bacon']\n",
            "Which type do you like to order? (Type 'exit' to end): Pepperoni\n",
            " \n",
            "Available sizes: ['Small', 'Medium', 'Large']\n",
            "Which size do you choose? Medium'\n",
            " \n",
            "Sorry, we don't have that size available.\n",
            " \n",
            "Options: ['For here', 'To go']\n",
            "For here or To go? For here\n",
            " \n",
            "Thank you for your order. Enjoy your meal!\n"
          ]
        },
        {
          "output_type": "execute_result",
          "data": {
            "text/plain": [
              "{'type': 'Pepperoni', 'size': '', 'eat': 'For here'}"
            ]
          },
          "metadata": {},
          "execution_count": 2
        }
      ]
    },
    {
      "cell_type": "markdown",
      "source": [
        "# HW02 เป่า ยิ้ง ฉุบ"
      ],
      "metadata": {
        "id": "hGmQlZMYfGh-"
      }
    },
    {
      "cell_type": "code",
      "source": [
        "# HW02: Rock, Paper, Scissors\n",
        "import random\n",
        "\n",
        "def RPS():\n",
        "    choose_list = [\"R\", \"P\", \"S\"]\n",
        "    user_score = 0\n",
        "    bot_score = 0\n",
        "\n",
        "    print(\"Welcome to 'rock', 'paper', 'scissors'\")\n",
        "    print(\"r = rock, p = paper, s = scissors\")\n",
        "\n",
        "    while True:\n",
        "        print(\" \")\n",
        "        user_choose = input(\"Choose one R, P, S\")\n",
        "        if user_choose == \"exit\":\n",
        "            print(\" \")\n",
        "            print(\"---Score Summary---\")\n",
        "            print(f\"User score is {user_score}\")\n",
        "            print(f\"Bot score is {bot_score}\")\n",
        "            print(\" \")\n",
        "            break\n",
        "        elif user_choose not in choose_list:\n",
        "            print(\"please choose one in [R, P, S]\")\n",
        "            continue\n",
        "\n",
        "        bot_choose = random.choice(choose_list)\n",
        "\n",
        "        if user_choose == bot_choose:\n",
        "            print(f\"User choice : {user_choose}\")\n",
        "            print(f\"Bot choice : {bot_choose}\")\n",
        "            print(\"TIE\")\n",
        "\n",
        "        elif user_choose == \"R\" and bot_choose == \"S\":\n",
        "            print(f\"Your Choice : {user_choose}\")\n",
        "            print(f\"Bot Choice : {bot_choose}\")\n",
        "            print(\"Win!!\")\n",
        "            user_score += 1\n",
        "\n",
        "        elif user_choose == \"S\" and bot_choose == \"P\":\n",
        "            print(f\"Your Choice : {user_choose}\")\n",
        "            print(f\"Bot Choice : {bot_choose}\")\n",
        "            print(\"Win!!\")\n",
        "            user_score += 1\n",
        "\n",
        "        elif user_choose == \"P\" and bot_choose == \"R\":\n",
        "            print(f\"Your Choice : {user_choose}\")\n",
        "            print(f\"Bot Choice : {bot_choose}\")\n",
        "            print(\"Win!!\")\n",
        "            user_score += 1\n",
        "\n",
        "        else:\n",
        "            print(f\"User choice : {user_choose}\")\n",
        "            print(f\"Bot choice : {bot_choose}\")\n",
        "            print(\"LOSE!!\")\n",
        "            bot_score += 1\n",
        "\n",
        "\n",
        "RPS()"
      ],
      "metadata": {
        "colab": {
          "base_uri": "https://localhost:8080/"
        },
        "id": "Qre8r8iCfMog",
        "outputId": "91893a4e-6854-4b55-d51d-663a04bfd26e"
      },
      "execution_count": null,
      "outputs": [
        {
          "output_type": "stream",
          "name": "stdout",
          "text": [
            "Welcome to 'rock', 'paper', 'scissors'\n",
            "r = rock, p = paper, s = scissors\n",
            " \n"
          ]
        }
      ]
    },
    {
      "cell_type": "markdown",
      "source": [
        "# HW03 ATM E LOVE ERROR"
      ],
      "metadata": {
        "id": "glEODrl6m94b"
      }
    },
    {
      "cell_type": "code",
      "source": [
        "# HW03 - Create ATM class\n",
        "class atm:\n",
        "    def __init__(self, pin, name, bank, balance):\n",
        "        self.pin = pin\n",
        "        self.name = name\n",
        "        self.bank = bank\n",
        "        self.balance = balance\n",
        "\n",
        "    def check(self):\n",
        "        print(f\"Hello {self.name}.\")\n",
        "        print(f\"this is you balance {self.balance}.\")\n",
        "\n",
        "    def deposit(self,amt):\n",
        "        self.balance += amt\n",
        "\n",
        "    def withdraw(self,amt):\n",
        "        self.balance -= amt"
      ],
      "metadata": {
        "id": "n7lTrDrznFo0"
      },
      "execution_count": null,
      "outputs": []
    },
    {
      "cell_type": "code",
      "source": [
        "atm01 = atm(1234, \"rui\", \"nmy\", 500)\n",
        "atm02 = atm(2589, \"Zach\", \"fwo\", 1500)"
      ],
      "metadata": {
        "id": "NGrRSKRnrCs3"
      },
      "execution_count": null,
      "outputs": []
    },
    {
      "cell_type": "code",
      "source": [
        "atm01.deposit(2000)\n",
        "atm01.deposit(2000)\n",
        "atm01.withdraw(3000)\n",
        "atm01.check()"
      ],
      "metadata": {
        "colab": {
          "base_uri": "https://localhost:8080/"
        },
        "id": "dQ8lbPmotCcV",
        "outputId": "2de60eca-ebea-4474-c286-ba18991a3d85"
      },
      "execution_count": null,
      "outputs": [
        {
          "output_type": "stream",
          "name": "stdout",
          "text": [
            "Hello rui.\n",
            "this is you balance 1500.\n"
          ]
        }
      ]
    },
    {
      "cell_type": "code",
      "source": [
        "atm02.deposit(2000)\n",
        "atm02.withdraw(900)\n",
        "atm02.check()"
      ],
      "metadata": {
        "colab": {
          "base_uri": "https://localhost:8080/"
        },
        "id": "PBj7T3B7sPEN",
        "outputId": "576b3e86-c153-4c8c-c990-5be62196a4ce"
      },
      "execution_count": null,
      "outputs": [
        {
          "output_type": "stream",
          "name": "stdout",
          "text": [
            "Hello Zach.\n",
            "this is you balance 2600.\n"
          ]
        }
      ]
    }
  ]
}